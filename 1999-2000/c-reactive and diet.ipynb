{
 "metadata": {
  "name": "",
  "signature": "sha256:517c277fd441160bb1461d55f725494c52741c49dbad1a949acc55d2033d87c2"
 },
 "nbformat": 3,
 "nbformat_minor": 0,
 "worksheets": [
  {
   "cells": [
    {
     "cell_type": "code",
     "collapsed": false,
     "input": [
      "\"\"\"\n",
      "Do legumes or other foods cause inflammation as measured by c-reactive protein?\n",
      "\"\"\"\n",
      "\n",
      "import pandas\n",
      "\n",
      "from functools import partial\n",
      "\n",
      "loadcsv = partial(pandas.DataFrame.from_csv,\n",
      "                  index_col=\"seqn\", parse_dates=False)\n",
      "\n",
      "\n",
      "demoq = loadcsv(\"csv/DEMO.csv\")\n",
      "lab = loadcsv(\"csv/lab/LAB11.csv\")\n",
      "diet = loadcsv(\"csv/quest/)\n"
     ],
     "language": "python",
     "metadata": {},
     "outputs": []
    }
   ],
   "metadata": {}
  }
 ]
}
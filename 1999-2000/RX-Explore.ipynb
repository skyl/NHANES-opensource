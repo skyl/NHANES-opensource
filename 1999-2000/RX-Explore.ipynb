{
 "metadata": {
  "name": "RX-Explore"
 },
 "nbformat": 3,
 "nbformat_minor": 0,
 "worksheets": [
  {
   "cells": [
    {
     "cell_type": "code",
     "collapsed": false,
     "input": [
      "import pandas\n",
      "\n",
      "from functools import partial\n",
      "\n",
      "loadcsv = partial(pandas.DataFrame.from_csv,\n",
      "                  index_col=\"seqn\", parse_dates=False)\n",
      "\n",
      "\n",
      "demoq = loadcsv(\"csv/DEMO.csv\")\n",
      "rxq = loadcsv(\"csv/quest/RXQ_RX.csv\")"
     ],
     "language": "python",
     "metadata": {},
     "outputs": [],
     "prompt_number": 1
    },
    {
     "cell_type": "code",
     "collapsed": false,
     "input": [
      "taking_rx = {}\n",
      "for seqn, one_or_two in rxq.rxd030.iteritems():\n",
      "    taking_rx[seqn] = True if one_or_two == 1 else (False if one_or_two == 2 else None)\n",
      "\n",
      "num_rx = {}\n",
      "for seqn, num in rxq.rxd295.iteritems():\n",
      "    try:\n",
      "        val = int(num)\n",
      "    except ValueError:\n",
      "        val = 0\n",
      "    num_rx[seqn] = val\n",
      "\n",
      "#print num_rx"
     ],
     "language": "python",
     "metadata": {},
     "outputs": [],
     "prompt_number": 2
    },
    {
     "cell_type": "code",
     "collapsed": false,
     "input": [
      "series = pandas.Series(taking_rx, name=\"taking_rx\")\n",
      "demoq = demoq.join(series)\n",
      "series = pandas.Series(num_rx, name=\"num_rx\")\n",
      "demoq = demoq.join(series)\n",
      "demoq.taking_rx, demoq.num_rx"
     ],
     "language": "python",
     "metadata": {},
     "outputs": [],
     "prompt_number": 3
    },
    {
     "cell_type": "code",
     "collapsed": false,
     "input": [
      "from sklearn.linear_model import LogisticRegression, LinearRegression\n",
      "#l = LogisticRegression()\n",
      "#l = LinearRegression()\n",
      "#demoq.ridageyr\n",
      "#LinearRegression??\n",
      "#demoq.dropna?\n",
      "#l = LinearRegression()\n",
      "#l.fit(demoq.num_rx, demoq.ridageyr)\n",
      "#import numpy as np\n",
      "#np.linalg.lstsq?"
     ],
     "language": "python",
     "metadata": {},
     "outputs": [],
     "prompt_number": 30
    },
    {
     "cell_type": "code",
     "collapsed": false,
     "input": [
      "from rpy2.robjects import r\n",
      "#r('x <- rnorm(100)')  # generate x at R\n",
      "#r('y <- x + rnorm(100,sd=0.5)')  # generate y at R\n",
      "#r('plot(x,y)')  # have R plot them\n",
      "#r('lmout <- lm(y~x)')  # run the regression\n",
      "#r('print(summary(lmout))')  # print from R\n",
      "#x = r('x')\n",
      "#x"
     ],
     "language": "python",
     "metadata": {},
     "outputs": [],
     "prompt_number": 7
    },
    {
     "cell_type": "code",
     "collapsed": false,
     "input": [
      "r('library(epicalc)')"
     ],
     "language": "python",
     "metadata": {},
     "outputs": [
      {
       "output_type": "stream",
       "stream": "stdout",
       "text": [
        "Loading required package: foreign\n",
        "Loading required package: survival\n"
       ]
      },
      {
       "output_type": "stream",
       "stream": "stdout",
       "text": [
        "Loading required package: splines\n",
        "Loading required package: MASS\n"
       ]
      },
      {
       "output_type": "stream",
       "stream": "stdout",
       "text": [
        "Loading required package: nnet\n"
       ]
      },
      {
       "output_type": "pyout",
       "prompt_number": 8,
       "text": [
        "<StrVector - Python:0x109f55b48 / R:0x102afe608>\n",
        "['epic..., 'nnet', 'MASS', ..., 'data..., 'meth..., 'base']"
       ]
      }
     ],
     "prompt_number": 8
    },
    {
     "cell_type": "code",
     "collapsed": false,
     "input": [
      "#r.assign(\"num_rx\", demoq.num_rx)\n",
      "#r.assign(\"age\", demoq.ridageyr)\n",
      "# ValueError: Nothing can be done for the type <class 'pandas.core.series.Series'> at the moment.\n",
      "from pandas import rpy\n",
      "import pandas.rpy.common as com\n",
      "df = com.convert_to_r_dataframe(demoq)\n",
      "r.assign(\"demoq\", df)\n",
      "r('lmout <- lm(demoq$num_rx ~ demoq$ridageyr)')  # run the regression\n",
      "r('print(summary(lmout))')  # print from R"
     ],
     "language": "python",
     "metadata": {},
     "outputs": [
      {
       "output_type": "stream",
       "stream": "stdout",
       "text": [
        "\n",
        "Call:\n",
        "lm(formula = demoq$num_rx ~ demoq$ridageyr)\n",
        "\n",
        "Residuals:\n",
        "    Min "
       ]
      },
      {
       "output_type": "stream",
       "stream": "stdout",
       "text": [
        "     1Q  Median      3Q     Max \n",
        "-2.9086 -0.6908 -0.2940  0.1358 15.7003 \n",
        "\n",
        "Coefficients:\n",
        "                 Estimate Std. Error t value Pr(>|t|)    \n",
        "(Intercept)    -0.1358216  0.0241399  -5.626 1.89e-08 ***\n",
        "demoq$ridageyr  0.0358161  0.0006232  57.469  < 2e-16 ***\n",
        "---\n",
        "Signif. codes:  0 \u2018***\u2019 0.001 \u2018**\u2019 0.01 \u2018*\u2019 0.05 \u2018.\u2019 0.1 \u2018 \u2019 1 \n",
        "\n",
        "Residual standard error: 1.545 on 9963 degrees of freedom\n",
        "Multiple R-squared: 0.249,\tAdjusted R-squared: 0.2489 \n",
        "F-statistic:  3303 on 1 and 9963 DF,  p-value: < 2.2e-16 \n",
        "\n"
       ]
      },
      {
       "output_type": "pyout",
       "prompt_number": 10,
       "text": [
        "<ListVector - Python:0x109ff0830 / R:0x10b4d66b0>\n",
        "[Vector, Formula, Float..., ..., Float..., Float..., Matrix]\n",
        "  call: <class 'rpy2.robjects.vectors.Vector'>\n",
        "  <Vector - Python:0x109ff0680 / R:0x10b8866d0>\n",
        "[RNULLType, Vector]\n",
        "  terms: <class 'rpy2.robjects.Formula'>\n",
        "  <Formula - Python:0x109ff0ea8 / R:0x10b885a70>\n",
        "  residuals: <class 'rpy2.robjects.vectors.FloatVector'>\n",
        "  <FloatVector - Python:0x109fe6050 / R:0x10d7cac00>\n",
        "[1.064189, -0.622022, -0.222340, ..., 0.491131, 0.741844, 1.127265]\n",
        "  ...\n",
        "  call: <class 'rpy2.robjects.vectors.FloatVector'>\n",
        "  <FloatVector - Python:0x109fe6098 / R:0x10b3651b8>\n",
        "[0.248886]\n",
        "  terms: <class 'rpy2.robjects.vectors.FloatVector'>\n",
        "  <FloatVector - Python:0x109fe6200 / R:0x10bc8a288>\n",
        "[3302.633883, 1.000000, 9963.000000]\n",
        "  residuals: <class 'rpy2.robjects.vectors.Matrix'>\n",
        "  <Matrix - Python:0x109fe6320 / R:0x10bc8a360>\n",
        "[0.000244, -0.000005, -0.000005, 0.000000]"
       ]
      }
     ],
     "prompt_number": 10
    },
    {
     "cell_type": "code",
     "collapsed": false,
     "input": [
      "import statsmodels.api as sm\n",
      "results = sm.OLS(demoq.num_rx, demoq.ridageyr).fit()\n",
      "results.summary()"
     ],
     "language": "python",
     "metadata": {},
     "outputs": [
      {
       "html": [
        "<table class=\"simpletable\">\n",
        "<caption>OLS Regression Results</caption>\n",
        "<tr>\n",
        "  <th>Dep. Variable:</th>         <td>num_rx</td>      <th>  R-squared:         </th> <td>   0.247</td> \n",
        "</tr>\n",
        "<tr>\n",
        "  <th>Model:</th>                   <td>OLS</td>       <th>  Adj. R-squared:    </th> <td>   0.247</td> \n",
        "</tr>\n",
        "<tr>\n",
        "  <th>Method:</th>             <td>Least Squares</td>  <th>  F-statistic:       </th> <td>     inf</td> \n",
        "</tr>\n",
        "<tr>\n",
        "  <th>Date:</th>             <td>Sun, 15 Jul 2012</td> <th>  Prob (F-statistic):</th>  <td>   nan</td>  \n",
        "</tr>\n",
        "<tr>\n",
        "  <th>Time:</th>                 <td>14:54:30</td>     <th>  Log-Likelihood:    </th> <td> -18488.</td> \n",
        "</tr>\n",
        "<tr>\n",
        "  <th>No. Observations:</th>      <td>  9965</td>      <th>  AIC:               </th> <td>3.698e+04</td>\n",
        "</tr>\n",
        "<tr>\n",
        "  <th>Df Residuals:</th>          <td>  9964</td>      <th>  BIC:               </th> <td>3.698e+04</td>\n",
        "</tr>\n",
        "<tr>\n",
        "  <th>Df Model:</th>              <td>     0</td>      <th>                     </th>     <td> </td>    \n",
        "</tr>\n",
        "</table>\n",
        "<table class=\"simpletable\">\n",
        "<tr>\n",
        "      <td></td>        <th>coef</th>     <th>std err</th>      <th>t</th>      <th>P>|t|</th> <th>[95.0% Conf. Int.]</th> \n",
        "</tr>\n",
        "<tr>\n",
        "  <th>ridageyr</th> <td>    0.0331</td> <td>    0.000</td> <td>   82.787</td> <td> 0.000</td> <td>    0.032     0.034</td>\n",
        "</tr>\n",
        "</table>\n",
        "<table class=\"simpletable\">\n",
        "<tr>\n",
        "  <th>Omnibus:</th>       <td>5992.855</td> <th>  Durbin-Watson:     </th> <td>   2.001</td> \n",
        "</tr>\n",
        "<tr>\n",
        "  <th>Prob(Omnibus):</th>  <td> 0.000</td>  <th>  Jarque-Bera (JB):  </th> <td>78409.652</td>\n",
        "</tr>\n",
        "<tr>\n",
        "  <th>Skew:</th>           <td> 2.675</td>  <th>  Prob(JB):          </th> <td>    0.00</td> \n",
        "</tr>\n",
        "<tr>\n",
        "  <th>Kurtosis:</th>       <td>15.658</td>  <th>  Cond. No.          </th> <td>    1.00</td> \n",
        "</tr>\n",
        "</table>"
       ],
       "output_type": "pyout",
       "prompt_number": 28,
       "text": [
        "<class 'statsmodels.iolib.summary.Summary'>\n",
        "\"\"\"\n",
        "                            OLS Regression Results                            \n",
        "==============================================================================\n",
        "Dep. Variable:                 num_rx   R-squared:                       0.247\n",
        "Model:                            OLS   Adj. R-squared:                  0.247\n",
        "Method:                 Least Squares   F-statistic:                       inf\n",
        "Date:                Sun, 15 Jul 2012   Prob (F-statistic):                nan\n",
        "Time:                        14:54:30   Log-Likelihood:                -18488.\n",
        "No. Observations:                9965   AIC:                         3.698e+04\n",
        "Df Residuals:                    9964   BIC:                         3.698e+04\n",
        "Df Model:                           0                                         \n",
        "==============================================================================\n",
        "                 coef    std err          t      P>|t|      [95.0% Conf. Int.]\n",
        "------------------------------------------------------------------------------\n",
        "ridageyr       0.0331      0.000     82.787      0.000         0.032     0.034\n",
        "==============================================================================\n",
        "Omnibus:                     5992.855   Durbin-Watson:                   2.001\n",
        "Prob(Omnibus):                  0.000   Jarque-Bera (JB):            78409.652\n",
        "Skew:                           2.675   Prob(JB):                         0.00\n",
        "Kurtosis:                      15.658   Cond. No.                         1.00\n",
        "==============================================================================\n",
        "\"\"\""
       ]
      }
     ],
     "prompt_number": 28
    },
    {
     "cell_type": "code",
     "collapsed": false,
     "input": [
      "# this won't run. Frozen window.\n",
      "#r('plot(demoq$num_rx, demoq$ridageyr)')  # have R plot them\n",
      "from pylab import scatter\n",
      "scatter(demoq.num_rx, demoq.ridageyr)"
     ],
     "language": "python",
     "metadata": {},
     "outputs": [
      {
       "output_type": "pyout",
       "prompt_number": 29,
       "text": [
        "<matplotlib.collections.PathCollection at 0x128012d50>"
       ]
      },
      {
       "output_type": "display_data",
       "png": "[encoded data removed]"
      }
     ],
     "prompt_number": 29
    },
    {
     "cell_type": "code",
     "collapsed": false,
     "input": [],
     "language": "python",
     "metadata": {},
     "outputs": []
    }
   ],
   "metadata": {}
  }
 ]
}